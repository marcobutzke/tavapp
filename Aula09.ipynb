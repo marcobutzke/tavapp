{
 "cells": [
  {
   "cell_type": "code",
   "execution_count": 3,
   "metadata": {},
   "outputs": [],
   "source": [
    "import pandas as pd\n",
    "from sklearn.cluster import KMeans"
   ]
  },
  {
   "cell_type": "code",
   "execution_count": 4,
   "metadata": {},
   "outputs": [],
   "source": [
    "def rfm_variables(df):\n",
    "  ## quantidade de vendas\n",
    "  f_sales = len(df)\n",
    "  ## quantidade de vendas com lucro\n",
    "  f_profit = len(df[df['Profit'] > 0])\n",
    "  ## total de vendas, lucro, quantidade e custo de entrega\n",
    "  m_sales = round(df['Sales'].sum(),2)\n",
    "  m_profit = round(df['Profit'].sum(),2)\n",
    "  m_qty = df['Quantity'].sum()\n",
    "  m_deliver = round(df['Shipping Cost'].sum(),2)\n",
    "  ## periodicidade\n",
    "  df_sort = df[['Order Date']].sort_values(by='Order Date').drop_duplicates()\n",
    "  df_sort['diff'] = df_sort['Order Date'] - df_sort['Order Date'].shift(1)\n",
    "  df_sort['diff_int'] = df_sort['diff'].dt.days\n",
    "  r_days = round(df_sort['diff_int'].mean(),2)\n",
    "  return f_sales, f_profit, m_sales, m_profit, m_qty, m_deliver, r_days"
   ]
  },
  {
   "cell_type": "code",
   "execution_count": 5,
   "metadata": {},
   "outputs": [],
   "source": [
    "def fit_data(data, variable):\n",
    "  rfm = pd.DataFrame()\n",
    "  variaveis = data[variable].unique()\n",
    "  for variavel in variaveis:\n",
    "    dados = data[data[variable] == variavel]\n",
    "    f_vendas, f_lucro, m_vendas, m_lucro, m_qtde, m_entrega, r_dias = rfm_variables(dados)\n",
    "    rfm = rfm.append(\n",
    "        {\n",
    "          'referencia': variavel, \n",
    "          'm_vendas': m_vendas, \n",
    "          'm_lucro': m_lucro,\n",
    "          'm_qtde': m_qtde, \n",
    "          'm_entrega': m_entrega, \n",
    "          'r_dias': r_dias,\n",
    "          'f_vendas': f_vendas, \n",
    "          'f_lucro': f_lucro           \n",
    "        },\n",
    "        ignore_index = True\n",
    "    )\n",
    "  return rfm"
   ]
  },
  {
   "cell_type": "code",
   "execution_count": null,
   "metadata": {},
   "outputs": [],
   "source": [
    "data = pd.read_feather('tavbase/gs.feather')\n",
    "data"
   ]
  },
  {
   "cell_type": "code",
   "execution_count": 8,
   "metadata": {},
   "outputs": [],
   "source": [
    "variaveis = [\n",
    "    'f_vendas', 'f_lucro', 'm_entrega', 'm_lucro', 'm_qtde', \n",
    "    'm_vendas', 'r_dias'\n",
    "]"
   ]
  },
  {
   "cell_type": "code",
   "execution_count": null,
   "metadata": {},
   "outputs": [],
   "source": [
    "## Aula 09 - Clusterização ou Agrupamento\n",
    "country_rfm = fit_data(data, 'Country')\n",
    "country_rfm = country_rfm.fillna(0)\n",
    "country_rfm['cluster'] = KMeans(\n",
    "    n_clusters=3,\n",
    "    random_state=0\n",
    ").fit(\n",
    "    country_rfm[\n",
    "        variaveis\n",
    "    ]\n",
    ").labels_\n",
    "country_rfm"
   ]
  },
  {
   "cell_type": "code",
   "execution_count": null,
   "metadata": {},
   "outputs": [],
   "source": [
    "cluster = pd.DataFrame()\n",
    "for index, row in enumerate(KMeans(n_clusters=3, random_state=0\n",
    "    ).fit(country_rfm[variaveis]).cluster_centers_):\n",
    "    print(row)\n",
    "    cluster = cluster.append(\n",
    "        {\n",
    "            'cluster': index,\n",
    "            'clf_vendas': row[0],\n",
    "            'cls_lucro': row[1],\n",
    "            'clm_entrega': row[2],\n",
    "            'clm_lucro': row[3],\n",
    "            'clm_qtde': row[4],\n",
    "            'clm_vendas': row[5],\n",
    "            'clr_dias': row[6]\n",
    "        },\n",
    "        ignore_index = True\n",
    "    )\n",
    "cluster    "
   ]
  },
  {
   "cell_type": "code",
   "execution_count": null,
   "metadata": {},
   "outputs": [],
   "source": [
    "country_rfm = country_rfm.merge(\n",
    "    cluster,\n",
    "    on='cluster',\n",
    "    how='left'\n",
    ")\n",
    "country_rfm"
   ]
  },
  {
   "cell_type": "code",
   "execution_count": 18,
   "metadata": {},
   "outputs": [],
   "source": [
    "country_rfm.to_feather('tavbase/clusterizacao_pais.feather')"
   ]
  }
 ],
 "metadata": {
  "kernelspec": {
   "display_name": "Python 3",
   "language": "python",
   "name": "python3"
  },
  "language_info": {
   "codemirror_mode": {
    "name": "ipython",
    "version": 3
   },
   "file_extension": ".py",
   "mimetype": "text/x-python",
   "name": "python",
   "nbconvert_exporter": "python",
   "pygments_lexer": "ipython3",
   "version": "3.8.13 (default, Sep  2 2022, 13:22:26) \n[GCC 9.4.0]"
  },
  "orig_nbformat": 4,
  "vscode": {
   "interpreter": {
    "hash": "110cc1dee26208153f2972f08a2ad52b6a56238dc66d48e87fb757ef2996db56"
   }
  }
 },
 "nbformat": 4,
 "nbformat_minor": 2
}
